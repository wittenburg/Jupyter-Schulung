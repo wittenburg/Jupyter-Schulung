{
 "cells": [
  {
   "cell_type": "code",
   "execution_count": 2,
   "id": "66759a42-6fa2-4d9c-9714-faecd27957c1",
   "metadata": {
    "tags": []
   },
   "outputs": [
    {
     "name": "stderr",
     "output_type": "stream",
     "text": [
      "C:\\Users\\wittenburg\\AppData\\Roaming\\Python\\Python310\\site-packages\\rpy2\\robjects\\packages.py:367: UserWarning: The symbol 'quartz' is not in this R namespace/package.\n",
      "  warnings.warn(\n",
      "C:\\Users\\wittenburg\\AppData\\Roaming\\Python\\Python310\\site-packages\\rpy2\\ipython\\rmagic.py:83: UserWarning: The Python package `pandas` is strongly recommended when using `rpy2.ipython`. Unfortunately it could not be loaded, as we did not manage to load `numpy` in the first place (error: No module named 'numpy').\n",
      "  warnings.warn('The Python package `pandas` is strongly '\n"
     ]
    }
   ],
   "source": [
    "%load_ext rpy2.ipython"
   ]
  },
  {
   "cell_type": "code",
   "execution_count": 3,
   "id": "3d7c2a46-31d1-4314-89de-320e6d3e9444",
   "metadata": {
    "tags": []
   },
   "outputs": [
    {
     "name": "stdout",
     "output_type": "stream",
     "text": [
      "  Tree  age circumference\n",
      "1    1  118            30\n",
      "2    1  484            58\n",
      "3    1  664            87\n",
      "4    1 1004           115\n",
      "5    1 1231           120\n",
      "6    1 1372           142\n"
     ]
    }
   ],
   "source": [
    "%%R\n",
    "data(\"Orange\")\n",
    "head(Orange)"
   ]
  }
 ],
 "metadata": {
  "kernelspec": {
   "display_name": "Python 3 (ipykernel)",
   "language": "python",
   "name": "python3"
  },
  "language_info": {
   "codemirror_mode": {
    "name": "ipython",
    "version": 3
   },
   "file_extension": ".py",
   "mimetype": "text/x-python",
   "name": "python",
   "nbconvert_exporter": "python",
   "pygments_lexer": "ipython3",
   "version": "3.10.11"
  }
 },
 "nbformat": 4,
 "nbformat_minor": 5
}
